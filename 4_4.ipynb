{
 "metadata": {
  "language_info": {
   "codemirror_mode": {
    "name": "ipython",
    "version": 3
   },
   "file_extension": ".py",
   "mimetype": "text/x-python",
   "name": "python",
   "nbconvert_exporter": "python",
   "pygments_lexer": "ipython3",
   "version": "3.6.10"
  },
  "orig_nbformat": 2,
  "kernelspec": {
   "name": "python3610jvsc74a57bd0db956eb77c6256702a2b21b3c227e5d21cf60bdbf418ac52193d82189149c07c",
   "display_name": "Python 3.6.10 64-bit ('learn': conda)"
  }
 },
 "nbformat": 4,
 "nbformat_minor": 2,
 "cells": [
  {
   "source": [
    "下载混凝土数据命令\n",
    "```\n",
    "wget https://archive.ics.uci.edu/ml/machine-learning-databases/concrete/compressive/Concrete_Data.xls\n",
    "```"
   ],
   "cell_type": "markdown",
   "metadata": {}
  },
  {
   "cell_type": "code",
   "execution_count": 1,
   "metadata": {},
   "outputs": [
    {
     "output_type": "execute_result",
     "data": {
      "text/plain": [
       "   Cement (component 1)(kg in a m^3 mixture)  \\\n",
       "0                                      540.0   \n",
       "1                                      540.0   \n",
       "2                                      332.5   \n",
       "3                                      332.5   \n",
       "4                                      198.6   \n",
       "5                                      266.0   \n",
       "6                                      380.0   \n",
       "7                                      380.0   \n",
       "8                                      266.0   \n",
       "9                                      475.0   \n",
       "\n",
       "   Blast Furnace Slag (component 2)(kg in a m^3 mixture)  \\\n",
       "0                                                0.0       \n",
       "1                                                0.0       \n",
       "2                                              142.5       \n",
       "3                                              142.5       \n",
       "4                                              132.4       \n",
       "5                                              114.0       \n",
       "6                                               95.0       \n",
       "7                                               95.0       \n",
       "8                                              114.0       \n",
       "9                                                0.0       \n",
       "\n",
       "   Fly Ash (component 3)(kg in a m^3 mixture)  \\\n",
       "0                                         0.0   \n",
       "1                                         0.0   \n",
       "2                                         0.0   \n",
       "3                                         0.0   \n",
       "4                                         0.0   \n",
       "5                                         0.0   \n",
       "6                                         0.0   \n",
       "7                                         0.0   \n",
       "8                                         0.0   \n",
       "9                                         0.0   \n",
       "\n",
       "   Water  (component 4)(kg in a m^3 mixture)  \\\n",
       "0                                      162.0   \n",
       "1                                      162.0   \n",
       "2                                      228.0   \n",
       "3                                      228.0   \n",
       "4                                      192.0   \n",
       "5                                      228.0   \n",
       "6                                      228.0   \n",
       "7                                      228.0   \n",
       "8                                      228.0   \n",
       "9                                      228.0   \n",
       "\n",
       "   Superplasticizer (component 5)(kg in a m^3 mixture)  \\\n",
       "0                                                2.5     \n",
       "1                                                2.5     \n",
       "2                                                0.0     \n",
       "3                                                0.0     \n",
       "4                                                0.0     \n",
       "5                                                0.0     \n",
       "6                                                0.0     \n",
       "7                                                0.0     \n",
       "8                                                0.0     \n",
       "9                                                0.0     \n",
       "\n",
       "   Coarse Aggregate  (component 6)(kg in a m^3 mixture)  \\\n",
       "0                                             1040.0      \n",
       "1                                             1055.0      \n",
       "2                                              932.0      \n",
       "3                                              932.0      \n",
       "4                                              978.4      \n",
       "5                                              932.0      \n",
       "6                                              932.0      \n",
       "7                                              932.0      \n",
       "8                                              932.0      \n",
       "9                                              932.0      \n",
       "\n",
       "   Fine Aggregate (component 7)(kg in a m^3 mixture)  Age (day)      label  \n",
       "0                                              676.0         28  79.986111  \n",
       "1                                              676.0         28  61.887366  \n",
       "2                                              594.0        270  40.269535  \n",
       "3                                              594.0        365  41.052780  \n",
       "4                                              825.5        360  44.296075  \n",
       "5                                              670.0         90  47.029847  \n",
       "6                                              594.0        365  43.698299  \n",
       "7                                              594.0         28  36.447770  \n",
       "8                                              670.0         28  45.854291  \n",
       "9                                              594.0         28  39.289790  "
      ],
      "text/html": "<div>\n<style scoped>\n    .dataframe tbody tr th:only-of-type {\n        vertical-align: middle;\n    }\n\n    .dataframe tbody tr th {\n        vertical-align: top;\n    }\n\n    .dataframe thead th {\n        text-align: right;\n    }\n</style>\n<table border=\"1\" class=\"dataframe\">\n  <thead>\n    <tr style=\"text-align: right;\">\n      <th></th>\n      <th>Cement (component 1)(kg in a m^3 mixture)</th>\n      <th>Blast Furnace Slag (component 2)(kg in a m^3 mixture)</th>\n      <th>Fly Ash (component 3)(kg in a m^3 mixture)</th>\n      <th>Water  (component 4)(kg in a m^3 mixture)</th>\n      <th>Superplasticizer (component 5)(kg in a m^3 mixture)</th>\n      <th>Coarse Aggregate  (component 6)(kg in a m^3 mixture)</th>\n      <th>Fine Aggregate (component 7)(kg in a m^3 mixture)</th>\n      <th>Age (day)</th>\n      <th>label</th>\n    </tr>\n  </thead>\n  <tbody>\n    <tr>\n      <th>0</th>\n      <td>540.0</td>\n      <td>0.0</td>\n      <td>0.0</td>\n      <td>162.0</td>\n      <td>2.5</td>\n      <td>1040.0</td>\n      <td>676.0</td>\n      <td>28</td>\n      <td>79.986111</td>\n    </tr>\n    <tr>\n      <th>1</th>\n      <td>540.0</td>\n      <td>0.0</td>\n      <td>0.0</td>\n      <td>162.0</td>\n      <td>2.5</td>\n      <td>1055.0</td>\n      <td>676.0</td>\n      <td>28</td>\n      <td>61.887366</td>\n    </tr>\n    <tr>\n      <th>2</th>\n      <td>332.5</td>\n      <td>142.5</td>\n      <td>0.0</td>\n      <td>228.0</td>\n      <td>0.0</td>\n      <td>932.0</td>\n      <td>594.0</td>\n      <td>270</td>\n      <td>40.269535</td>\n    </tr>\n    <tr>\n      <th>3</th>\n      <td>332.5</td>\n      <td>142.5</td>\n      <td>0.0</td>\n      <td>228.0</td>\n      <td>0.0</td>\n      <td>932.0</td>\n      <td>594.0</td>\n      <td>365</td>\n      <td>41.052780</td>\n    </tr>\n    <tr>\n      <th>4</th>\n      <td>198.6</td>\n      <td>132.4</td>\n      <td>0.0</td>\n      <td>192.0</td>\n      <td>0.0</td>\n      <td>978.4</td>\n      <td>825.5</td>\n      <td>360</td>\n      <td>44.296075</td>\n    </tr>\n    <tr>\n      <th>5</th>\n      <td>266.0</td>\n      <td>114.0</td>\n      <td>0.0</td>\n      <td>228.0</td>\n      <td>0.0</td>\n      <td>932.0</td>\n      <td>670.0</td>\n      <td>90</td>\n      <td>47.029847</td>\n    </tr>\n    <tr>\n      <th>6</th>\n      <td>380.0</td>\n      <td>95.0</td>\n      <td>0.0</td>\n      <td>228.0</td>\n      <td>0.0</td>\n      <td>932.0</td>\n      <td>594.0</td>\n      <td>365</td>\n      <td>43.698299</td>\n    </tr>\n    <tr>\n      <th>7</th>\n      <td>380.0</td>\n      <td>95.0</td>\n      <td>0.0</td>\n      <td>228.0</td>\n      <td>0.0</td>\n      <td>932.0</td>\n      <td>594.0</td>\n      <td>28</td>\n      <td>36.447770</td>\n    </tr>\n    <tr>\n      <th>8</th>\n      <td>266.0</td>\n      <td>114.0</td>\n      <td>0.0</td>\n      <td>228.0</td>\n      <td>0.0</td>\n      <td>932.0</td>\n      <td>670.0</td>\n      <td>28</td>\n      <td>45.854291</td>\n    </tr>\n    <tr>\n      <th>9</th>\n      <td>475.0</td>\n      <td>0.0</td>\n      <td>0.0</td>\n      <td>228.0</td>\n      <td>0.0</td>\n      <td>932.0</td>\n      <td>594.0</td>\n      <td>28</td>\n      <td>39.289790</td>\n    </tr>\n  </tbody>\n</table>\n</div>"
     },
     "metadata": {},
     "execution_count": 1
    }
   ],
   "source": [
    "import pandas as pd \n",
    "import xgboost as xgb \n",
    "import numpy as np \n",
    "data = pd.read_excel('data/Concrete_Data.xls')\n",
    "# print(data.columns.values.tolist())\n",
    "data.rename(columns={\"Concrete compressive strength(MPa, megapascals) \":\"label\"},inplace=True)\n",
    "data.head(10)"
   ]
  },
  {
   "cell_type": "code",
   "execution_count": 2,
   "metadata": {},
   "outputs": [
    {
     "output_type": "stream",
     "name": "stdout",
     "text": [
      "[02:38:37] WARNING: ../src/objective/regression_obj.cu:171: reg:linear is now deprecated in favor of reg:squarederror.\n",
      "[0]\ttrain-rmse:35.06698\ttest-rmse:37.96214\n",
      "[1]\ttrain-rmse:32.00506\ttest-rmse:34.80804\n",
      "[2]\ttrain-rmse:29.27749\ttest-rmse:31.92658\n",
      "[3]\ttrain-rmse:26.85494\ttest-rmse:29.37696\n",
      "[4]\ttrain-rmse:24.68805\ttest-rmse:27.14244\n",
      "[5]\ttrain-rmse:22.76729\ttest-rmse:25.16235\n",
      "[6]\ttrain-rmse:21.07326\ttest-rmse:23.42971\n",
      "[7]\ttrain-rmse:19.57090\ttest-rmse:21.87051\n",
      "[8]\ttrain-rmse:18.25455\ttest-rmse:20.56141\n",
      "[9]\ttrain-rmse:17.10254\ttest-rmse:19.39058\n",
      "[10]\ttrain-rmse:16.09324\ttest-rmse:18.36115\n",
      "[11]\ttrain-rmse:15.21308\ttest-rmse:17.46189\n",
      "[12]\ttrain-rmse:14.45807\ttest-rmse:16.71154\n",
      "[13]\ttrain-rmse:13.79832\ttest-rmse:16.03303\n",
      "[14]\ttrain-rmse:13.23566\ttest-rmse:15.44641\n",
      "[15]\ttrain-rmse:12.73458\ttest-rmse:14.94010\n",
      "[16]\ttrain-rmse:12.31607\ttest-rmse:14.51064\n",
      "[17]\ttrain-rmse:11.95992\ttest-rmse:14.12893\n",
      "[18]\ttrain-rmse:11.64744\ttest-rmse:13.83240\n",
      "[19]\ttrain-rmse:11.39349\ttest-rmse:13.56773\n",
      "[20]\ttrain-rmse:11.17276\ttest-rmse:13.31813\n",
      "[21]\ttrain-rmse:10.98832\ttest-rmse:13.11199\n",
      "[22]\ttrain-rmse:10.83034\ttest-rmse:12.96215\n",
      "[23]\ttrain-rmse:10.69976\ttest-rmse:12.81527\n",
      "[24]\ttrain-rmse:10.58455\ttest-rmse:12.69556\n",
      "[25]\ttrain-rmse:10.48538\ttest-rmse:12.59164\n",
      "[26]\ttrain-rmse:10.40402\ttest-rmse:12.49341\n",
      "[27]\ttrain-rmse:10.32791\ttest-rmse:12.43175\n",
      "[28]\ttrain-rmse:10.26791\ttest-rmse:12.39026\n",
      "[29]\ttrain-rmse:10.21574\ttest-rmse:12.34460\n",
      "[30]\ttrain-rmse:10.17018\ttest-rmse:12.30926\n",
      "[31]\ttrain-rmse:10.12874\ttest-rmse:12.27946\n",
      "[32]\ttrain-rmse:10.09615\ttest-rmse:12.24787\n",
      "[33]\ttrain-rmse:10.06625\ttest-rmse:12.21890\n",
      "[34]\ttrain-rmse:10.03799\ttest-rmse:12.19780\n",
      "[35]\ttrain-rmse:10.01465\ttest-rmse:12.18560\n",
      "[36]\ttrain-rmse:9.99550\ttest-rmse:12.16817\n",
      "[37]\ttrain-rmse:9.98021\ttest-rmse:12.16166\n",
      "[38]\ttrain-rmse:9.96590\ttest-rmse:12.14869\n",
      "[39]\ttrain-rmse:9.95024\ttest-rmse:12.14147\n",
      "[40]\ttrain-rmse:9.93919\ttest-rmse:12.13262\n",
      "[41]\ttrain-rmse:9.92605\ttest-rmse:12.12446\n",
      "[42]\ttrain-rmse:9.91574\ttest-rmse:12.11535\n",
      "[43]\ttrain-rmse:9.90296\ttest-rmse:12.11644\n",
      "[44]\ttrain-rmse:9.89644\ttest-rmse:12.11087\n",
      "[45]\ttrain-rmse:9.88814\ttest-rmse:12.10500\n",
      "[46]\ttrain-rmse:9.88196\ttest-rmse:12.10033\n",
      "[47]\ttrain-rmse:9.87470\ttest-rmse:12.09529\n",
      "[48]\ttrain-rmse:9.86817\ttest-rmse:12.09633\n",
      "[49]\ttrain-rmse:9.86004\ttest-rmse:12.09250\n"
     ]
    }
   ],
   "source": [
    "mask = np.random.rand(len(data)) < 0.8\n",
    "train = data[mask]\n",
    "test = data[~mask]\n",
    "xgb_train = xgb.DMatrix(train.iloc[:,:7],label=train.label)\n",
    "xgb_test = xgb.DMatrix(test.iloc[:,:7],label=test.label)\n",
    "params = {\n",
    "    \"objective\": \"reg:linear\",\n",
    "    \"booster\": \"gbtree\",\n",
    "    \"eta\": 0.1,\n",
    "    \"min_child_weight\": 1,\n",
    "    \"max_depth\": 5\n",
    "}\n",
    "num_round=50\n",
    "watchlist = [(xgb_train,'train'),(xgb_test,'test')]\n",
    "model = xgb.train(params,xgb_train,num_round,watchlist)\n",
    "# model.save_model(\"./model.xgb\")\n"
   ]
  },
  {
   "cell_type": "code",
   "execution_count": 3,
   "metadata": {},
   "outputs": [
    {
     "output_type": "stream",
     "name": "stdout",
     "text": [
      "[61.299755  38.96139   24.153864  24.153864  50.830322  27.14106\n 48.279133  43.44874   38.96139   43.44874   50.830322  50.742336\n 38.96139   43.44874   55.261566  60.87716   54.22907   55.261566\n 54.15939   49.47849   60.87716   63.025494  46.35165   54.22907\n 55.261566  51.96037   56.24124   60.87716   46.35165   54.15939\n 56.24124   60.87716   54.22907   49.47849   46.01306   51.30598\n 60.87716   63.025494  27.07168   27.524092  27.524092  28.742908\n 27.661734  28.269789  28.269789  28.982426  28.982426  35.42097\n 24.825071  24.825071  37.22703   37.22703   37.810627  33.253254\n 32.867264  32.867264  29.964752  30.520422  23.77736   23.77736\n 36.02198   46.703964  40.39547   40.39547   46.758694  40.418766\n 36.64032   51.689003  49.8729    49.8729    34.137363  34.137363\n 30.697306  30.697306  41.005417  45.83182   52.38454   57.13263\n 56.04311   59.068634  40.320045  36.18097   39.910686  36.18097\n 30.00459   25.617838  26.972637  23.811804  36.18097   35.25514\n 26.972637  25.909042  36.18097   25.909042  45.77702   50.258327\n 45.77702   45.77702   45.04331   45.04331   43.034325  41.434452\n 45.04331   45.04331   45.742897  50.42377   35.198322  44.925926\n 37.74607   17.449913  24.568764  17.449913  22.853815  29.748756\n 20.846449  34.620102  25.894724  31.02536   23.984444  23.984444\n 28.348581  28.477798  17.620802  26.563524  26.563524  21.280745\n 28.010828  12.3708725 16.239317  23.8815    17.558533  17.62012\n 23.312498  47.706673  12.489952  17.62012   29.05395   19.787956\n 47.706673  25.201155  37.259903  21.804361  31.065487  27.730597\n 27.384705  26.006233  42.038002  58.45242   58.45242   26.798212\n 20.871822  28.012411  35.34916   35.34916   15.913319  39.94072\n 27.901642  34.817173  42.038002  35.425537  36.134884  40.975567\n 28.329361  13.903281  47.63371   36.228294  24.95535   38.533543\n 12.251325  14.299629  29.714546  34.428936  29.543053  25.613935\n 28.167948  29.453506  55.261402  31.6575    32.963966  39.40314\n 41.762753  27.866213  59.852028  40.28684   39.149128  41.152306\n 34.71501  ]\n"
     ]
    }
   ],
   "source": [
    "# bst = xgb.Bosster()\n",
    "# bst.load_model(\"./model.xgb\")\n",
    "pred = model.predict(xgb_test)\n",
    "print(pred)\n",
    "# dump_model = model.dump_model(\"./dump.txt\")"
   ]
  }
 ]
}