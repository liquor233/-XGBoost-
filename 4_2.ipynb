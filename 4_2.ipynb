{
 "metadata": {
  "language_info": {
   "codemirror_mode": {
    "name": "ipython",
    "version": 3
   },
   "file_extension": ".py",
   "mimetype": "text/x-python",
   "name": "python",
   "nbconvert_exporter": "python",
   "pygments_lexer": "ipython3",
   "version": "3.6.10"
  },
  "orig_nbformat": 2,
  "kernelspec": {
   "name": "python3610jvsc74a57bd0db956eb77c6256702a2b21b3c227e5d21cf60bdbf418ac52193d82189149c07c",
   "display_name": "Python 3.6.10 64-bit ('learn': conda)"
  }
 },
 "nbformat": 4,
 "nbformat_minor": 2,
 "cells": [
  {
   "source": [
    "关于数据处理和数据集划分的代码暂时没有包括在这里\n"
   ],
   "cell_type": "markdown",
   "metadata": {}
  },
  {
   "cell_type": "code",
   "execution_count": 1,
   "metadata": {},
   "outputs": [
    {
     "output_type": "stream",
     "name": "stdout",
     "text": [
      "[22:48:58] WARNING: ../src/learner.cc:1095: Starting in XGBoost 1.3.0, the default evaluation metric used with the objective 'binary:logistic' was changed from 'error' to 'logloss'. Explicitly set eval_metric if you'd like to restore the old behavior.\n",
      "[0]\ttrain-logloss:0.16118\ttest-logloss:0.16396\n",
      "[1]\ttrain-logloss:0.06473\ttest-logloss:0.06293\n"
     ]
    }
   ],
   "source": [
    "import xgboost as xgb\n",
    "xgb_train = xgb.DMatrix('data/agaricus.txt.train')\n",
    "xgb_test = xgb.DMatrix('data/agaricus.txt.test')\n",
    "# 模型参数\n",
    "params = {\n",
    "    \"objective\": \"binary:logistic\",\n",
    "    \"booster\": \"gbtree\",\n",
    "    \"eta\": 1.0,\n",
    "    \"gamma\": 1.0,\n",
    "    \"min_child_weight\": 1,\n",
    "    \"max_depth\": 3\n",
    "}\n",
    "\n",
    "num_round = 2\n",
    "watchlist = [(xgb_train,'train'),(xgb_test,'test')]\n",
    "\n",
    "model = xgb.train(params,xgb_train,num_round,watchlist)"
   ]
  },
  {
   "cell_type": "code",
   "execution_count": 2,
   "metadata": {},
   "outputs": [
    {
     "output_type": "stream",
     "name": "stdout",
     "text": [
      "[0.10828121 0.85500014 0.10828121 ... 0.95467216 0.04156424 0.95467216]\n"
     ]
    }
   ],
   "source": [
    "# save model\n",
    "model.save_model(\"./0002.model\")\n",
    "bst = xgb.Booster()\n",
    "bst.load_model(\"./0002.model\")\n",
    "pred = bst.predict(xgb_test)\n",
    "\n",
    "print(pred)"
   ]
  },
  {
   "cell_type": "code",
   "execution_count": 3,
   "metadata": {},
   "outputs": [],
   "source": [
    "dump_model = bst.dump_model(\"./dump.raw.txt\")\n",
    "dump_model = bst.dump_model(\"./dump.nice.txt\",\"data/agaricus.featmap.txt\")"
   ]
  }
 ]
}