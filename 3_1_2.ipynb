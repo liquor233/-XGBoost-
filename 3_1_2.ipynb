{
 "metadata": {
  "language_info": {
   "codemirror_mode": {
    "name": "ipython",
    "version": 3
   },
   "file_extension": ".py",
   "mimetype": "text/x-python",
   "name": "python",
   "nbconvert_exporter": "python",
   "pygments_lexer": "ipython3",
   "version": "3.6.13"
  },
  "orig_nbformat": 2,
  "kernelspec": {
   "name": "python3613jvsc74a57bd0db956eb77c6256702a2b21b3c227e5d21cf60bdbf418ac52193d82189149c07c",
   "display_name": "Python 3.6.13 64-bit ('learn': conda)"
  },
  "metadata": {
   "interpreter": {
    "hash": "db956eb77c6256702a2b21b3c227e5d21cf60bdbf418ac52193d82189149c07c"
   }
  }
 },
 "nbformat": 4,
 "nbformat_minor": 2,
 "cells": [
  {
   "cell_type": "code",
   "execution_count": 1,
   "metadata": {},
   "outputs": [
    {
     "output_type": "stream",
     "name": "stdout",
     "text": [
      "[21:47:27] WARNING: ../src/learner.cc:1095: Starting in XGBoost 1.3.0, the default evaluation metric used with the objective 'binary:logistic' was changed from 'error' to 'logloss'. Explicitly set eval_metric if you'd like to restore the old behavior.\n",
      "[0]\ttrain-logloss:0.45224\ttest-logloss:0.45317\n",
      "[1]\ttrain-logloss:0.32280\ttest-logloss:0.32413\n",
      "[2]\ttrain-logloss:0.23637\ttest-logloss:0.23739\n",
      "[3]\ttrain-logloss:0.16932\ttest-logloss:0.16935\n",
      "[4]\ttrain-logloss:0.12385\ttest-logloss:0.12352\n"
     ]
    }
   ],
   "source": [
    "import xgboost as xgb\n",
    "xgb_train = xgb.DMatrix('data/agaricus.txt.train')\n",
    "xgb_test = xgb.DMatrix('data/agaricus.txt.test')\n",
    "\n",
    "# 模型参数\n",
    "params = {\n",
    "    \"objective\": \"binary:logistic\",\n",
    "    \"booster\": \"gbtree\",\n",
    "    \"max_depth\": 3\n",
    "}\n",
    "\n",
    "num_round = 5\n",
    "watchlist = [(xgb_train,'train'),(xgb_test,'test')]\n",
    "\n",
    "model = xgb.train(params,xgb_train,num_round,watchlist)"
   ]
  },
  {
   "cell_type": "code",
   "execution_count": 2,
   "metadata": {},
   "outputs": [
    {
     "output_type": "execute_result",
     "data": {
      "text/plain": [
       "array([0.10455427, 0.8036663 , 0.10455427, ..., 0.89609396, 0.10285233,\n",
       "       0.89609396], dtype=float32)"
      ]
     },
     "metadata": {},
     "execution_count": 2
    }
   ],
   "source": [
    "preds = model.predict(xgb_test)\n",
    "preds"
   ]
  },
  {
   "cell_type": "code",
   "execution_count": null,
   "metadata": {},
   "outputs": [],
   "source": []
  }
 ]
}