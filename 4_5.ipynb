{
 "metadata": {
  "language_info": {
   "codemirror_mode": {
    "name": "ipython",
    "version": 3
   },
   "file_extension": ".py",
   "mimetype": "text/x-python",
   "name": "python",
   "nbconvert_exporter": "python",
   "pygments_lexer": "ipython3",
   "version": "3.6.10"
  },
  "orig_nbformat": 2,
  "kernelspec": {
   "name": "python3610jvsc74a57bd0db956eb77c6256702a2b21b3c227e5d21cf60bdbf418ac52193d82189149c07c",
   "display_name": "Python 3.6.10 64-bit ('learn': conda)"
  }
 },
 "nbformat": 4,
 "nbformat_minor": 2,
 "cells": [
  {
   "cell_type": "code",
   "execution_count": 4,
   "metadata": {},
   "outputs": [
    {
     "output_type": "stream",
     "name": "stdout",
     "text": [
      "100\n"
     ]
    }
   ],
   "source": [
    "'''\n",
    "# 数据处理\n",
    "import sys\n",
    "def save_data(group_data,output_feature,output_group):\n",
    "    if(len(group_data)==0):\n",
    "        return\n",
    "    output_group.write(str(len(group_data)) + \"\\n\")\n",
    "    for data in group_data:\n",
    "        feats= [p  for p in data[2:] if float(p.split(':')[1]) != 0.0]\n",
    "        #print(data[0]+ \" \" + \" \".join(feats))\n",
    "        output_feature.write(data[0]+ \" \" + \" \".join(feats) + \"\\n\")\n",
    "fi = open(\"data/mq.txt\")\n",
    "output_feature = open(\"data/mq8000/train.fet.txt\",'w')\n",
    "output_group = open(\"data/mq8000/train.group.txt\",\"w\")\n",
    "\n",
    "group_data = []\n",
    "group = \"\"\n",
    "cnt = 0\n",
    "for line in fi:\n",
    "    if not line:\n",
    "        break\n",
    "    if '#' in line:\n",
    "        line = line[:line.index('#')]\n",
    "    splits = line.strip().split(\" \")\n",
    "    if splits[1] != group:\n",
    "        save_data(group_data,output_feature,output_group)\n",
    "        group_data = []\n",
    "        cnt += 1\n",
    "        if cnt==80: \n",
    "            output_feature.close()\n",
    "            output_feature = open(\"data/mq8000/test.fet.txt\",\"w\")\n",
    "            output_group.close()\n",
    "            output_group = open(\"data/mq8000/test.group.txt\",\"w\")\n",
    "        if cnt==100:\n",
    "            break;\n",
    "    group = splits[1]\n",
    "    group_data.append(splits)\n",
    "print(cnt)\n",
    "#save_data(group_data,output_feature,ouput_group)\n",
    "fi.close()\n",
    "output_feature.close()\n",
    "output_group.close()\n",
    "'''"
   ]
  },
  {
   "cell_type": "code",
   "execution_count": 1,
   "metadata": {},
   "outputs": [],
   "source": [
    "import xgboost as xgb \n",
    "xgb_train = xgb.DMatrix(\"data/mq2008/train.fet.txt\")\n",
    "xgb_test = xgb.DMatrix(\"data/mq2008/test.fet.txt\")\n"
   ]
  },
  {
   "cell_type": "code",
   "execution_count": 2,
   "metadata": {},
   "outputs": [
    {
     "output_type": "stream",
     "name": "stdout",
     "text": [
      "[0]\ttrain-map:0.60501\ttest-map:0.37030\n",
      "[1]\ttrain-map:0.67285\ttest-map:0.43237\n",
      "[2]\ttrain-map:0.72269\ttest-map:0.42726\n",
      "[3]\ttrain-map:0.72949\ttest-map:0.43115\n",
      "[4]\ttrain-map:0.72871\ttest-map:0.44700\n",
      "[5]\ttrain-map:0.71552\ttest-map:0.45145\n",
      "[6]\ttrain-map:0.72524\ttest-map:0.45234\n",
      "[7]\ttrain-map:0.72672\ttest-map:0.45424\n",
      "[8]\ttrain-map:0.74824\ttest-map:0.45227\n",
      "[9]\ttrain-map:0.75383\ttest-map:0.45451\n"
     ]
    }
   ],
   "source": [
    "params = {\n",
    "    \"objective\": \"rank:pairwise\",\n",
    "    \"eta\": 0.1,\n",
    "    \"gamma\": 1.0,\n",
    "    \"min_child_weight\": 0.1,\n",
    "    \"max_depth\": 6\n",
    "}\n",
    "num_round=10\n",
    "watchlist = [(xgb_train,\"train\"),(xgb_test,\"test\")]\n",
    "model = xgb.train(params,xgb_train,num_round,watchlist)"
   ]
  }
 ]
}