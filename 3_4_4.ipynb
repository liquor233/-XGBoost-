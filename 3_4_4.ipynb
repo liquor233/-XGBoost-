{
 "metadata": {
  "language_info": {
   "codemirror_mode": {
    "name": "ipython",
    "version": 3
   },
   "file_extension": ".py",
   "mimetype": "text/x-python",
   "name": "python",
   "nbconvert_exporter": "python",
   "pygments_lexer": "ipython3",
   "version": "3.6.13"
  },
  "orig_nbformat": 2,
  "kernelspec": {
   "name": "python3613jvsc74a57bd0db956eb77c6256702a2b21b3c227e5d21cf60bdbf418ac52193d82189149c07c",
   "display_name": "Python 3.6.13 64-bit ('learn': conda)"
  }
 },
 "nbformat": 4,
 "nbformat_minor": 2,
 "cells": [
  {
   "cell_type": "code",
   "execution_count": 1,
   "metadata": {},
   "outputs": [
    {
     "output_type": "stream",
     "name": "stdout",
     "text": [
      "(569, 30)\n(569,)\n"
     ]
    }
   ],
   "source": [
    "from sklearn import datasets\n",
    "cancer = datasets.load_breast_cancer()\n",
    "X = cancer.data\n",
    "y = cancer.target\n",
    "print(X.shape)\n",
    "print(y.shape)"
   ]
  },
  {
   "cell_type": "code",
   "execution_count": 2,
   "metadata": {},
   "outputs": [],
   "source": [
    "from sklearn.model_selection import train_test_split\n",
    "X_train,X_test,y_train,y_test = train_test_split(X,y,test_size=1/5.,random_state=8)"
   ]
  },
  {
   "cell_type": "code",
   "execution_count": 3,
   "metadata": {},
   "outputs": [
    {
     "output_type": "stream",
     "name": "stdout",
     "text": [
      "              precision    recall  f1-score   support\n\n      Benign       0.91      0.87      0.89        46\n   Malignant       0.91      0.94      0.93        68\n\n    accuracy                           0.91       114\n   macro avg       0.91      0.91      0.91       114\nweighted avg       0.91      0.91      0.91       114\n\n"
     ]
    }
   ],
   "source": [
    "from sklearn import tree\n",
    "from sklearn.model_selection import cross_val_score\n",
    "from sklearn.metrics import classification_report\n",
    "clf = tree.DecisionTreeClassifier(max_depth=4)\n",
    "clf.fit(X_train,y_train)\n",
    "y_pred = clf.predict(X_test)\n",
    "print(classification_report(y_test,y_pred,target_names=[\"Benign\",\"Malignant\"]))"
   ]
  },
  {
   "cell_type": "code",
   "execution_count": 4,
   "metadata": {},
   "outputs": [],
   "source": [
    "# import graphviz\n",
    "# dot_data = tree.export_graphviz(clf,out_file=\"tree.dot\",\n",
    "#                                feature_names=cancer.feature_names,\n",
    "#                                class_names=cancer.target_names,\n",
    "#                                filled=True,rounded=True,\n",
    "#                                special_characters=True)\n",
    "# graph = graphviz.Source(dot_data)\n",
    "# graph"
   ]
  }
 ]
}